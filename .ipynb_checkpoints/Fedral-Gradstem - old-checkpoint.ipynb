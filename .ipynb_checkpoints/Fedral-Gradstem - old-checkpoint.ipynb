{
 "cells": [
  {
   "cell_type": "code",
   "execution_count": 3,
   "id": "eaa2f5c4-ac6c-4425-bb69-60153aa242ab",
   "metadata": {},
   "outputs": [],
   "source": [
    "import requests\n",
    "import pandas as pd\n",
    "import json\n",
    "from openai import OpenAI\n",
    "from process import get_tasks, add_task, update_task, delete_task\n",
    "\n",
    "client = OpenAI()"
   ]
  },
  {
   "cell_type": "code",
   "execution_count": 4,
   "id": "b08393d7-85b6-4de9-859a-da5b6c049f91",
   "metadata": {},
   "outputs": [],
   "source": [
    "oauthz_demo_get_desc = \"\"\"\n",
    "The AI agent triggers the OAuth2.0 authentication endpoint when users request login or access to protected resources. It listens for commands like \"log me in,\" \"authenticate me,\" or \"sign in to my account.\" Upon receiving the request, the agent redirects the user to an authorization page where they log in and grant access. If successful, the agent extracts the authorization code from the redirected URL for further processing. The endpoint requires parameters like response_type=code, client_id, redirect_uri, and scope=openid profile.\n",
    "\"\"\"  \n",
    "\n",
    "oauthz_demo_post_desc = \"\"\"\n",
    "The AI agent triggers the OAuth2.0 token exchange endpoint after receiving the authorization code. It listens for commands like \"Complete my login\" or \"Authenticate my session.\" Once the authorization code is available, the agent sends a POST request to exchange it for an access token and a refresh token. These tokens allow access to user APIs and are used for subsequent requests. Required parameters include grant_type=authorization_code, redirect_uri, and code, with Basic Authentication using client_id and client_secret.\n",
    "\"\"\"  \n",
    "\n",
    "oauthz_demo_pkce_get_desc = \"\"\"\n",
    "The AI agent triggers the PKCE-based authentication endpoint when users request secure login without a client secret. It listens for phrases like \"Log in securely,\" \"Authenticate without client secret,\" or \"Authorize with PKCE.\" The agent redirects the user to the authentication page, where they log in and grant permissions. On success, an authorization code is returned to the redirect URI. The agent then extracts the code, which can be exchanged for an access token. Required parameters include response_type=code, client_id, redirect_uri, scope=openid profile email, and code_challenge.\n",
    "\"\"\"  \n",
    "\n",
    "oauthz_demo_pkce_post_desc = \"\"\"\n",
    "The AI agent triggers the PKCE token exchange endpoint after receiving the authorization code. It listens for commands like \"Complete my login with PKCE,\" \"Exchange my PKCE auth code for a token,\" or \"Get an access token using PKCE.\" The agent sends a POST request with the authorization code and verifies the code_verifier against the code_challenge. If successful, the agent receives an access token and refresh token. Required parameters include grant_type=authorization_code, redirect_uri, code, and code_verifier, with Basic Authentication using client_id and client_secret.\n",
    "\"\"\"  \n"
   ]
  },
  {
   "cell_type": "code",
   "execution_count": 5,
   "id": "823fa4b7-9752-4195-be61-8bedf1502a20",
   "metadata": {},
   "outputs": [],
   "source": [
    "\n",
    "tools = [\n",
    "    {\n",
    "        \"type\": \"function\",\n",
    "        \"function\": {\n",
    "            \"name\": \"oauthz_demo_get\",\n",
    "            \"description\": oauthz_demo_get_desc,\n",
    "            \"parameters\": {\"type\": \"object\", \"properties\": {}, \"required\": [], \"additionalProperties\": False},\n",
    "            \"strict\": True,\n",
    "        },\n",
    "    },\n",
    "    {\n",
    "        \"type\": \"function\",\n",
    "        \"function\": {\n",
    "            \"name\": \"oauthz_demo_post\",\n",
    "            \"description\": oauthz_demo_post_desc,\n",
    "            \"parameters\": {\"type\": \"object\", \"properties\": {}, \"required\": [], \"additionalProperties\": False},\n",
    "            \"strict\": True,\n",
    "        },\n",
    "    },\n",
    "    {\n",
    "        \"type\": \"function\",\n",
    "        \"function\": {\n",
    "            \"name\": \"oauthz_demo_pkce_get\",\n",
    "            \"description\": oauthz_demo_pkce_get_desc,\n",
    "            \"parameters\": {\"type\": \"object\", \"properties\": {}, \"required\": [], \"additionalProperties\": False},\n",
    "            \"strict\": True,\n",
    "        },\n",
    "    },\n",
    "    {\n",
    "        \"type\": \"function\",\n",
    "        \"function\": {\n",
    "            \"name\": \"oauthz_demo_pkce_post\",\n",
    "            \"description\": oauthz_demo_pkce_post_desc,\n",
    "            \"parameters\": {\"type\": \"object\", \"properties\": {}, \"required\": [], \"additionalProperties\": False},\n",
    "            \"strict\": True,\n",
    "        },\n",
    "    },\n",
    "]"
   ]
  },
  {
   "cell_type": "code",
   "execution_count": 6,
   "id": "15665178-167f-4d06-9175-c9ee508988eb",
   "metadata": {},
   "outputs": [],
   "source": [
    "# Function to call GPT and get tool responses\n",
    "def ask_gpt(msg):\n",
    "    messages = [{\"role\": \"user\", \"content\": msg}]\n",
    "\n",
    "    completion = client.chat.completions.create(\n",
    "        model=\"gpt-4o\",\n",
    "        messages=messages,\n",
    "        tools=tools,\n",
    "    )\n",
    "\n",
    "    tool_call = completion.choices[0].message.tool_calls\n",
    "    return tool_call\n"
   ]
  },
  {
   "cell_type": "code",
   "execution_count": 7,
   "id": "55e77b22-e9e9-4e84-8632-e60c69f1bf9d",
   "metadata": {},
   "outputs": [
    {
     "data": {
      "text/plain": [
       "'oauthz_demo_get'"
      ]
     },
     "execution_count": 7,
     "metadata": {},
     "output_type": "execute_result"
    }
   ],
   "source": [
    "query = 'auth login user'\n",
    "tool_calls = ask_gpt(query)\n",
    "tool_calls[0].function.name"
   ]
  },
  {
   "cell_type": "code",
   "execution_count": null,
   "id": "569ebcce-0429-4031-bc9d-06fdaa60e7a7",
   "metadata": {},
   "outputs": [],
   "source": []
  },
  {
   "cell_type": "code",
   "execution_count": null,
   "id": "f99f931b-7833-4328-99c6-77928f8ad2df",
   "metadata": {},
   "outputs": [],
   "source": []
  }
 ],
 "metadata": {
  "kernelspec": {
   "display_name": "Python 3 (ipykernel)",
   "language": "python",
   "name": "python3"
  },
  "language_info": {
   "codemirror_mode": {
    "name": "ipython",
    "version": 3
   },
   "file_extension": ".py",
   "mimetype": "text/x-python",
   "name": "python",
   "nbconvert_exporter": "python",
   "pygments_lexer": "ipython3",
   "version": "3.11.5"
  }
 },
 "nbformat": 4,
 "nbformat_minor": 5
}

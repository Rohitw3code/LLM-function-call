{
 "cells": [
  {
   "cell_type": "code",
   "execution_count": 103,
   "id": "416a4f14-a683-4b5e-9043-d98ddff4e298",
   "metadata": {},
   "outputs": [],
   "source": [
    "from openai import OpenAI\n",
    "import json\n",
    "\n",
    "client = OpenAI()\n",
    "\n",
    "# Define the Python functions\n",
    "def get_weather(latitude,longitude):\n",
    "    return f\"The current weather in {latitude} and {longitude} is sunny and 25°C.\"\n",
    "\n",
    "def get_time(time):\n",
    "    return f\"The current time is {time}\"\n",
    "\n",
    "# Map function names to actual Python functions\n",
    "function_map = {\n",
    "    \"get_weather\": get_weather,\n",
    "    \"get_time\": get_time\n",
    "}\n",
    "\n",
    "\n",
    "tools = [\n",
    "    {\n",
    "        \"type\": \"function\",\n",
    "        \"function\": {\n",
    "            \"name\": \"get_weather\",\n",
    "            \"description\": \"Get current temperature for provided coordinates in Celsius.\",\n",
    "            \"parameters\": {\n",
    "                \"type\": \"object\",\n",
    "                \"properties\": {\n",
    "                    \"latitude\": {\"type\": \"number\"},\n",
    "                    \"longitude\": {\"type\": \"number\"}\n",
    "                },\n",
    "                \"required\": [\"latitude\", \"longitude\"],\n",
    "                \"additionalProperties\": False\n",
    "            },\n",
    "            \"strict\": True\n",
    "        }\n",
    "    },\n",
    "    {\n",
    "        \"type\": \"function\",\n",
    "        \"function\": {\n",
    "            \"name\": \"get_time\",\n",
    "            \"description\": \"Get the current time for a given location.\",\n",
    "            \"parameters\": {\n",
    "                \"type\": \"object\",\n",
    "                \"properties\": {\n",
    "                    \"time\": {\n",
    "                        \"type\": \"string\",\n",
    "                        \"description\": \"City and country, e.g., Tokyo, Japan\"\n",
    "                    }\n",
    "                },\n",
    "                \"required\": [\"time\"],  # Corrected the required key to match the properties\n",
    "                \"additionalProperties\": False\n",
    "            },\n",
    "            \"strict\": True\n",
    "        }\n",
    "    }\n",
    "]\n",
    "\n",
    "\n",
    "def ask_gpt(msg):\n",
    "    messages = [{\"role\": \"user\", \"content\": msg}]\n",
    "    \n",
    "    completion = client.chat.completions.create(\n",
    "        model=\"gpt-4o\",\n",
    "        messages=messages,\n",
    "        tools=tools,\n",
    "    )\n",
    "    \n",
    "    tool_call = completion.choices[0].message.tool_calls\n",
    "    print(tool_call)\n",
    "    return tool_call\n"
   ]
  },
  {
   "cell_type": "code",
   "execution_count": 104,
   "id": "06525dcc-3e16-4cdf-b772-8c2e4d337b8b",
   "metadata": {},
   "outputs": [
    {
     "name": "stdout",
     "output_type": "stream",
     "text": [
      "[ChatCompletionMessageToolCall(id='call_NA2F5Ar4UHJuV7wjYWpihchq', function=Function(arguments='{\"latitude\":48.8566,\"longitude\":2.3522}', name='get_weather'), type='function')]\n"
     ]
    }
   ],
   "source": [
    "print(completion.choices[0].message.tool_calls)"
   ]
  },
  {
   "cell_type": "code",
   "execution_count": 105,
   "id": "46b2d979-1571-46f4-b48f-0fd2321e2157",
   "metadata": {},
   "outputs": [
    {
     "name": "stdout",
     "output_type": "stream",
     "text": [
      "[ChatCompletionMessageToolCall(id='call_bUXyV4BtCJesqXcKHocKiBj9', function=Function(arguments='{\"time\":\"Tokyo, Japan\"}', name='get_time'), type='function')]\n"
     ]
    }
   ],
   "source": [
    "tool_calls = ask_gpt('what is the time in japan')"
   ]
  },
  {
   "cell_type": "code",
   "execution_count": 106,
   "id": "fb45da4f-28f3-4138-b659-eab502891c8e",
   "metadata": {},
   "outputs": [
    {
     "data": {
      "text/plain": [
       "'get_time'"
      ]
     },
     "execution_count": 106,
     "metadata": {},
     "output_type": "execute_result"
    }
   ],
   "source": [
    "tool_calls[0].function.name"
   ]
  },
  {
   "cell_type": "code",
   "execution_count": 107,
   "id": "571763d5-8cc9-4ce4-99d0-9667631adec1",
   "metadata": {},
   "outputs": [
    {
     "name": "stdout",
     "output_type": "stream",
     "text": [
      "[ChatCompletionMessageToolCall(id='call_wzpSMdvuLVZcoEDsgm7brPf6', function=Function(arguments='{\"latitude\":10,\"longitude\":20}', name='get_weather'), type='function')]\n",
      "Result: The current weather in 10 and 20 is sunny and 25°C. \n"
     ]
    }
   ],
   "source": [
    "tool_calls = ask_gpt('i have coodinates like 10 and 20 get temperature')\n",
    "\n",
    "if tool_calls:\n",
    "    for tool_call in tool_calls:\n",
    "        tool_name = tool_call.function.name\n",
    "        tool_arguments = json.loads(tool_call.function.arguments)\n",
    "    \n",
    "        # Dynamically call the appropriate function\n",
    "        if tool_name in function_map:\n",
    "            result = function_map[tool_name](**tool_arguments)  # Call the mapped function with arguments\n",
    "            print(f\"Result: {result} \")\n",
    "        else:\n",
    "            print(f\"Function '{tool_name}' is not implemented.\")"
   ]
  },
  {
   "cell_type": "code",
   "execution_count": null,
   "id": "568571e7-07ec-4eea-a139-527248b50239",
   "metadata": {},
   "outputs": [],
   "source": []
  }
 ],
 "metadata": {
  "kernelspec": {
   "display_name": "Python 3 (ipykernel)",
   "language": "python",
   "name": "python3"
  },
  "language_info": {
   "codemirror_mode": {
    "name": "ipython",
    "version": 3
   },
   "file_extension": ".py",
   "mimetype": "text/x-python",
   "name": "python",
   "nbconvert_exporter": "python",
   "pygments_lexer": "ipython3",
   "version": "3.11.5"
  }
 },
 "nbformat": 4,
 "nbformat_minor": 5
}
